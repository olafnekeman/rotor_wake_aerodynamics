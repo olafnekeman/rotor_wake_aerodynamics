{
 "cells": [
  {
   "cell_type": "code",
   "execution_count": 43,
   "metadata": {},
   "outputs": [],
   "source": [
    "import numpy as np\n",
    "import matplotlib.pyplot as plt\n",
    "import pandas as pd"
   ]
  },
  {
   "cell_type": "code",
   "execution_count": 44,
   "metadata": {},
   "outputs": [],
   "source": [
    "def CTfunction(a, glauert = False):\n",
    "    \"\"\"\n",
    "    This function calculates the thrust coefficient as a function of induction factor 'a'\n",
    "    'glauert' defines if the Glauert correction for heavily loaded rotors should be used; default value is false\n",
    "    \"\"\"\n",
    "    CT = np.zeros(np.shape(a))\n",
    "    CT = 4*a*(1-a)  \n",
    "    if glauert:\n",
    "        CT1=1.816;\n",
    "        a1=1-np.sqrt(CT1)/2;\n",
    "        CT[a>a1] = CT1-4*(np.sqrt(CT1)-1)*(1-a[a>a1])\n",
    "    \n",
    "    return CT\n",
    "\n",
    "def ainduction(CT):\n",
    "    \"\"\"\n",
    "    This function calculates the induction factor 'a' as a function of thrust coefficient CT \n",
    "    including Glauert's correction\n",
    "    \"\"\"\n",
    "    a = np.zeros(np.shape(CT))\n",
    "    CT1=1.816;\n",
    "    CT2=2*np.sqrt(CT1)-CT1\n",
    "    a[CT>=CT2] = 1 + (CT[CT>=CT2]-CT1)/(4*(np.sqrt(CT1)-1))\n",
    "    a[CT<CT2] = 0.5-0.5*np.sqrt(1-CT[CT<CT2])\n",
    "    return a\n",
    "\n",
    "def PrandtlTipRootCorrection(r_R, rootradius_R, tipradius_R, TSR, NBlades, axial_induction):\n",
    "    \"\"\"\n",
    "    This function calcualte steh combined tip and root Prandtl correction at agiven radial position 'r_R' (non-dimensioned by rotor radius), \n",
    "    given a root and tip radius (also non-dimensioned), a tip speed ratio TSR, the number lf blades NBlades and the axial induction factor\n",
    "    \"\"\"\n",
    "    temp1 = -NBlades/2*(tipradius_R-r_R)/r_R*np.sqrt( 1+ ((TSR*r_R)**2)/((1-axial_induction)**2))\n",
    "    Ftip = np.array(2/np.pi*np.arccos(np.exp(temp1)))\n",
    "    Ftip[np.isnan(Ftip)] = 0\n",
    "    temp1 = NBlades/2*(rootradius_R-r_R)/r_R*np.sqrt( 1+ ((TSR*r_R)**2)/((1-axial_induction)**2))\n",
    "    Froot = np.array(2/np.pi*np.arccos(np.exp(temp1)))\n",
    "    Froot[np.isnan(Froot)] = 0\n",
    "    return Froot*Ftip, Ftip, Froot\n",
    "\n",
    "def loadBladeElement(vnorm, vtan, r_R, chord, twist, polar_alpha, polar_cl, polar_cd):\n",
    "    \"\"\"\n",
    "    calculates the load in the blade element\n",
    "    \"\"\"\n",
    "    vmag2 = vnorm**2 + vtan**2\n",
    "    inflowangle = np.arctan2(vnorm,vtan)\n",
    "    alpha = twist + inflowangle*180/np.pi\n",
    "    cl = np.interp(alpha, polar_alpha, polar_cl)\n",
    "    cd = np.interp(alpha, polar_alpha, polar_cd)\n",
    "    lift = 0.5*vmag2*cl*chord\n",
    "    drag = 0.5*vmag2*cd*chord\n",
    "    fnorm = lift*np.cos(inflowangle)+drag*np.sin(inflowangle)\n",
    "    ftan = lift*np.sin(inflowangle)-drag*np.cos(inflowangle)\n",
    "    gamma = 0.5*np.sqrt(vmag2)*cl*chord\n",
    "    return fnorm , ftan, gamma, alpha\n",
    "\n",
    "def solveStreamtube(Uinf, r1_R, r2_R, rootradius_R, tipradius_R , Omega, Radius, NBlades, chord, twist, polar_alpha, polar_cl, polar_cd ):\n",
    "    \"\"\"\n",
    "    solve balance of momentum between blade element load and loading in the streamtube\n",
    "    input variables:\n",
    "    Uinf - wind speed at infinity\n",
    "    r1_R,r2_R - edges of blade element, in fraction of Radius ;\n",
    "    rootradius_R, tipradius_R - location of blade root and tip, in fraction of Radius ;\n",
    "    Radius is the rotor radius\n",
    "    Omega -rotational velocity\n",
    "    NBlades - number of blades in rotor\n",
    "    \"\"\"\n",
    "    Area = np.pi*((r2_R*Radius)**2-(r1_R*Radius)**2) #  area streamtube\n",
    "    r_R = (r1_R+r2_R)/2 # centroide\n",
    "    # initiatlize variables\n",
    "    a = 0.0 # axial induction\n",
    "    aline = 0.0 # tangential induction factor\n",
    "    \n",
    "    Niterations = 100\n",
    "    Erroriterations =0.00001 # error limit for iteration rpocess, in absolute value of induction\n",
    "    \n",
    "    for i in range(Niterations):\n",
    "        # ///////////////////////////////////////////////////////////////////////\n",
    "        # // this is the block \"Calculate velocity and loads at blade element\"\n",
    "        # ///////////////////////////////////////////////////////////////////////\n",
    "        Urotor = Uinf*(1-a) # axial velocity at rotor\n",
    "        Utan = (1+aline)*Omega*r_R*Radius # tangential velocity at rotor\n",
    "        # calculate loads in blade segment in 2D (N/m)\n",
    "        fnorm, ftan, gamma, alpha = loadBladeElement(Urotor, Utan, r_R,chord, twist, polar_alpha, polar_cl, polar_cd)\n",
    "        load3Daxial =fnorm*Radius*(r2_R-r1_R)*NBlades # 3D force in axial direction\n",
    "        # load3Dtan =loads[1]*Radius*(r2_R-r1_R)*NBlades # 3D force in azimuthal/tangential direction (not used here)\n",
    "      \n",
    "        # ///////////////////////////////////////////////////////////////////////\n",
    "        # //the block \"Calculate velocity and loads at blade element\" is done\n",
    "        # ///////////////////////////////////////////////////////////////////////\n",
    "\n",
    "        # ///////////////////////////////////////////////////////////////////////\n",
    "        # // this is the block \"Calculate new estimate of axial and azimuthal induction\"\n",
    "        # ///////////////////////////////////////////////////////////////////////\n",
    "        # // calculate thrust coefficient at the streamtube \n",
    "        CT = load3Daxial/(0.5*Area*Uinf**2)\n",
    "        power = load3Daxial*Urotor\n",
    "        # calculate new axial induction, accounting for Glauert's correction\n",
    "        anew =  ainduction(CT)\n",
    "        \n",
    "        # correct new axial induction with Prandtl's correction\n",
    "        Prandtl, Prandtltip, Prandtlroot = PrandtlTipRootCorrection(r_R, rootradius_R, tipradius_R, Omega*Radius/Uinf, NBlades, anew);\n",
    "        if (Prandtl < 0.0001): \n",
    "            Prandtl = 0.0001 # avoid divide by zero\n",
    "        anew = anew/Prandtl # correct estimate of axial induction\n",
    "        a = 0.75*a+0.25*anew # for improving convergence, weigh current and previous iteration of axial induction\n",
    "\n",
    "        # calculate aximuthal induction\n",
    "        aline = ftan*NBlades/(2*np.pi*Uinf*(1-a)*Omega*2*(r_R*Radius)**2)\n",
    "        aline =aline/Prandtl # correct estimate of azimuthal induction with Prandtl's correction\n",
    "        # ///////////////////////////////////////////////////////////////////////////\n",
    "        # // end of the block \"Calculate new estimate of axial and azimuthal induction\"\n",
    "        # ///////////////////////////////////////////////////////////////////////\n",
    "        \n",
    "        #// test convergence of solution, by checking convergence of axial induction\n",
    "        if (np.abs(a-anew) < Erroriterations): \n",
    "            # print(\"iterations\")\n",
    "            # print(i)\n",
    "            break\n",
    "    print('CT :', CT)\n",
    "    return [a , aline, r_R, fnorm , ftan, gamma]"
   ]
  },
  {
   "cell_type": "code",
   "execution_count": 51,
   "metadata": {},
   "outputs": [],
   "source": [
    "def solveStreamtube(Uinf, r1_R, r2_R, rootradius_R, tipradius_R , Omega, Radius, NBlades, chord, twist, polar_alpha, polar_cl, polar_cd, CT=0.75):\n",
    "    \"\"\"\n",
    "    solve balance of momentum between blade element load and loading in the streamtube\n",
    "    input variables:\n",
    "    Uinf - wind speed at infinity\n",
    "    r1_R,r2_R - edges of blade element, in fraction of Radius ;\n",
    "    rootradius_R, tipradius_R - location of blade root and tip, in fraction of Radius ;\n",
    "    Radius is the rotor radius\n",
    "    Omega -rotational velocity\n",
    "    NBlades - number of blades in rotor\n",
    "    \"\"\"\n",
    "    Area = np.pi*((r2_R*Radius)**2-(r1_R*Radius)**2) #  area streamtube\n",
    "    r_R = (r1_R+r2_R)/2 # centroide\n",
    "    \n",
    "    if type(CT) != np.ndarray:\n",
    "        CT = np.array([CT])\n",
    "        \n",
    "    # initiatlize variables\n",
    "    a = ainduction(CT) # axial induction\n",
    "    aline = 0.0 # tangential induction factor\n",
    "    density = 1.225 # [kg/m^3]\n",
    "    Niterations = 100\n",
    "    Erroriterations =0.00001 # error limit for iteration process, in absolute value of induction\n",
    "    \n",
    "    for i in range(Niterations):\n",
    "        # ///////////////////////////////////////////////////////////////////////\n",
    "        # // this is the block \"Calculate velocity and loads at blade element\"\n",
    "        # ///////////////////////////////////////////////////////////////////////\n",
    "        Urotor = Uinf*(1-a) # axial velocity at rotor\n",
    "        Utan = (1+aline)*Omega*r_R*Radius # tangential velocity at rotor\n",
    "        W = Urotor**2 + Utan**2\n",
    "        # calculate loads in blade segment in 2D (N/m)\n",
    "        fnorm, ftan, gamma, alpha = loadBladeElement(Urotor, Utan, r_R,chord, twist, polar_alpha, polar_cl, polar_cd)\n",
    "        load3Daxial =fnorm*Radius*(r2_R-r1_R)*NBlades # 3D force in axial direction\n",
    "        # load3Dtan =loads[1]*Radius*(r2_R-r1_R)*NBlades # 3D force in azimuthal/tangential direction (not used here)\n",
    "      \n",
    "        # ///////////////////////////////////////////////////////////////////////\n",
    "        # //the block \"Calculate velocity and loads at blade element\" is done\n",
    "        # ///////////////////////////////////////////////////////////////////////\n",
    "\n",
    "        # ///////////////////////////////////////////////////////////////////////\n",
    "        # // this is the block \"Calculate new estimate of axial and azimuthal induction\"\n",
    "        # ///////////////////////////////////////////////////////////////////////\n",
    "        # // calculate thrust coefficient at the streamtube \n",
    "        CT = load3Daxial/(0.5*Area*Uinf**2)\n",
    "        thrust = load3Daxial\n",
    "        power = load3Daxial*Urotor\n",
    "       \n",
    "        # calculate new axial induction, accounting for Glauert's correction\n",
    "        anew =  ainduction(CT)\n",
    "        \n",
    "        # correct new axial induction with Prandtl's correction\n",
    "        Prandtl, Prandtltip, Prandtlroot = PrandtlTipRootCorrection(r_R, rootradius_R, tipradius_R, Omega*Radius/Uinf, NBlades, anew);\n",
    "        if (Prandtl < 0.0001): \n",
    "            Prandtl = 0.0001 # avoid divide by zero\n",
    "        anew = anew/Prandtl # correct estimate of axial induction\n",
    "        a = 0.75*a+0.25*anew # for improving convergence, weigh current and previous iteration of axial induction\n",
    "\n",
    "        # calculate aximuthal induction\n",
    "        aline = ftan*NBlades/(2*np.pi*Uinf*(1-a)*Omega*2*(r_R*Radius)**2)\n",
    "        aline =aline/Prandtl # correct estimate of azimuthal induction with Prandtl's correction\n",
    "        # ///////////////////////////////////////////////////////////////////////////\n",
    "        # // end of the block \"Calculate new estimate of axial and azimuthal induction\"\n",
    "        # ///////////////////////////////////////////////////////////////////////\n",
    "        \n",
    "        #// test convergence of solution, by checking convergence of axial induction\n",
    "        if (np.abs(a-anew) < Erroriterations): \n",
    "            # print(\"iterations\")\n",
    "            # print(i)\n",
    "            break\n",
    "    #dQ = 4*np.pi*density*Uinf*Utan*aline*(1-a)*(r_R*Radius)**2*(r2_R - r1_R)*Radius - 0.5*density*W*NBlades*\n",
    "    power = load3Daxial*Urotor\n",
    "\n",
    "    return [a , aline, r_R, fnorm , ftan, gamma, alpha, thrust, power]\n",
    "\n",
    "\n",
    "\n",
    "\n",
    "def run(pitch, twist_factor, chord_factor):\n",
    "    \"\"\" Optimizes the pitch, chord and twist angle w.r.t. Cp \"\"\"\n",
    "    import pandas as pd\n",
    "\n",
    "    airfoil = 'ARA_polar.txt'\n",
    "    data1=pd.read_csv(airfoil, header=0,\n",
    "                        names = [\"alfa\", \"cl\", \"cd\", \"cm\"],  sep='\\s+')\n",
    "    polar_alpha = data1['alfa'][:]\n",
    "    polar_cl = data1['cl'][:]\n",
    "    polar_cd = data1['cd'][:]\n",
    "    # define the blade geometry\n",
    "    delta_r_R = .01\n",
    "    r_R = np.arange(0.2, 1+delta_r_R/2, delta_r_R)\n",
    "\n",
    "    # blade shape\n",
    "    pitch = pitch # degrees\n",
    "    chord_distribution = chord_factor*3*(1-r_R)+1 # meters\n",
    "    twist_distribution = twist_factor*(-14*(1-r_R))+pitch # degrees\n",
    "\n",
    "    # define flow conditions\n",
    "    Uinf = 10 # unperturbed wind speed in m/s\n",
    "    TSR = 8 # tip speed ratio\n",
    "    Radius = 50\n",
    "    Omega = Uinf*TSR/Radius\n",
    "    NBlades = 3\n",
    "    Area = np.pi*Radius**2\n",
    "    TipLocation_R =  1\n",
    "    RootLocation_R =  0.2\n",
    "\n",
    "    # solve BEM model\n",
    "    results =np.zeros([len(r_R)-1,9]) \n",
    "    \n",
    "    ### Find best inflow angle per blade section\n",
    "    for i in range(len(r_R)-1):\n",
    "        chord = np.interp((r_R[i]+r_R[i+1])/2, r_R, chord_distribution)\n",
    "        twist = np.interp((r_R[i]+r_R[i+1])/2, r_R, twist_distribution)\n",
    "\n",
    "        results[i,:] = solveStreamtube(Uinf, r_R[i], r_R[i+1], RootLocation_R, TipLocation_R , Omega, Radius, NBlades, chord, twist, polar_alpha, polar_cl, polar_cd )\n",
    "    total_thrust = results[:,7].sum()\n",
    "    total_power = results[:,8].sum()\n",
    "    CT = total_thrust/(0.5*Area*Uinf**2)\n",
    "    CP = total_power/(0.5*Area*Uinf**3)\n",
    "    \n",
    "    return [CT, CP]"
   ]
  },
  {
   "cell_type": "code",
   "execution_count": 52,
   "metadata": {},
   "outputs": [],
   "source": [
    "def optimize(pitch_range, twist_range, chord_range):\n",
    "    import csv\n",
    "    i = 0\n",
    "    f = open('results.csv', 'w')\n",
    "    with f:\n",
    "        writer = csv.writer(f)\n",
    "        writer.writerows([[\"pitch\", \"twist_factor\", \"chord_factor\", \"CT\", \"CP\"]])\n",
    "        for pitch in pitch_range:\n",
    "            for twist_factor in twist_range:\n",
    "                for chord_factor in chord_range:\n",
    "                    CT, CP = run(pitch, twist_factor, chord_factor)\n",
    "                    if 0.745 <=CT <= 0.755:\n",
    "\n",
    "                        writer.writerows([[round(pitch, 2), round(twist_factor, 2), round(chord_factor, 2),\n",
    "                                        round(CT,5), round(CP,5)]])\n",
    "    return 'finished'\n"
   ]
  },
  {
   "cell_type": "code",
   "execution_count": 53,
   "metadata": {
    "scrolled": true
   },
   "outputs": [],
   "source": [
    "\n",
    "pitch_range = np.arange(-2, 3, 0.5)\n",
    "twist_range = np.arange(0.5, 1.5, 0.2)\n",
    "chord_range = np.arange(0.5, 1.5, 0.2)\n",
    "\n",
    "results = optimize(pitch_range, twist_range, chord_range)"
   ]
  },
  {
   "cell_type": "code",
   "execution_count": 54,
   "metadata": {},
   "outputs": [],
   "source": [
    "import csv\n",
    "\n",
    "nms = [[1, 2, 3], [7, 8, 9], [10, 11, 12]]\n",
    "\n",
    "f = open('numbers3.csv', 'w')\n",
    "\n",
    "with f:\n",
    "\n",
    "    writer = csv.writer(f)\n",
    "    writer.writerows(nms)"
   ]
  },
  {
   "cell_type": "code",
   "execution_count": 35,
   "metadata": {},
   "outputs": [
    {
     "name": "stdout",
     "output_type": "stream",
     "text": [
      "0.52095\n"
     ]
    },
    {
     "data": {
      "text/plain": [
       "array([[-0.2    ,  1.     ,  1.3    ,  0.75307,  0.52095]])"
      ]
     },
     "execution_count": 35,
     "metadata": {},
     "output_type": "execute_result"
    }
   ],
   "source": [
    "import pandas as pd\n",
    "\n",
    "airfoil = 'ARA_polar.txt'\n",
    "data1=pd.read_csv(airfoil, header=0,\n",
    "                    names = [\"alfa\", \"cl\", \"cd\", \"cm\"],  sep='\\s+')\n",
    "polar_alpha = data1['alfa'][:]\n",
    "polar_cl = data1['cl'][:]\n",
    "polar_cd = data1['cd'][:]\n",
    "b = np.array(results)\n",
    "idx = np.where(b[:,4] == b[:,4].max())\n",
    "print(b[:,4].max())\n",
    "b[idx]\n"
   ]
  },
  {
   "cell_type": "code",
   "execution_count": 30,
   "metadata": {},
   "outputs": [],
   "source": [
    "# define the blade geometry\n",
    "delta_r_R = .01\n",
    "r_R = np.arange(0.2, 1+delta_r_R/2, delta_r_R)\n",
    "\n",
    "\n",
    "# blade shape\n",
    "pitch = 2 # degrees\n",
    "chord_distribution = 3*(1-r_R)+1 # meters\n",
    "twist_distribution = -14*(1-r_R)+pitch # degrees\n",
    "\n",
    "\n",
    "\n",
    "# define flow conditions\n",
    "Uinf = 10 # unperturbed wind speed in m/s\n",
    "TSR = 8 # tip speed ratio\n",
    "Radius = 50\n",
    "Omega = Uinf*TSR/Radius\n",
    "NBlades = 3\n",
    "\n",
    "TipLocation_R =  1\n",
    "RootLocation_R =  0.2\n",
    "\n",
    "\n",
    "# solve BEM model\n",
    "values = np.zeros([len(r_R)-1,2]) \n",
    "\n",
    "results =np.zeros([len(r_R)-1,8]) \n",
    "\n",
    "pitch_factor = 1\n",
    "chord_factor = 1\n",
    "twist_factor = 1\n",
    "max_power = 0\n"
   ]
  },
  {
   "cell_type": "code",
   "execution_count": 31,
   "metadata": {},
   "outputs": [
    {
     "name": "stdout",
     "output_type": "stream",
     "text": [
      "[0.75] [0.92427444]\n",
      "[0.75] [0.93421606]\n",
      "[0.75] [0.93412138]\n",
      "[0.75] [0.93404683]\n",
      "[0.75] [0.93399092]\n",
      "[0.75] [0.93394899]\n",
      "[0.75] [0.93391754]\n",
      "[0.75] [0.93389395]\n",
      "[0.75] [0.93387626]\n",
      "[0.75] [0.933863]\n",
      "[0.75] [0.93385305]\n",
      "[0.75] [0.93384558]\n",
      "[0.75] [0.93383999]\n",
      "[0.75] [0.93383579]\n"
     ]
    }
   ],
   "source": [
    "#for i in range(len(r_R)-1):\n",
    "for i in range(39,40):\n",
    "    chord = np.interp((r_R[i]+r_R[i+1])/2, r_R, chord_distribution)\n",
    "    twist = np.interp((r_R[i]+r_R[i+1])/2, r_R, twist_distribution)\n",
    "    #values[i,:] = solve_stream_tube(Uinf, r_R[i], r_R[i+1], RootLocation_R, TipLocation_R , Omega, Radius, NBlades, chord, twist, polar_alpha, polar_cl, polar_cd )\n",
    "\n",
    "    results[i,:] = solveStreamtube(Uinf, r_R[i], r_R[i+1], RootLocation_R, TipLocation_R , Omega, Radius, NBlades, chord, twist, polar_alpha, polar_cl, polar_cd )\n",
    "    current_power_output = results[:,7].sum()\n"
   ]
  },
  {
   "cell_type": "code",
   "execution_count": 18,
   "metadata": {},
   "outputs": [
    {
     "name": "stdout",
     "output_type": "stream",
     "text": [
      "39\n"
     ]
    }
   ],
   "source": [
    "#results[:,7].sum()\n",
    "for i in range(39,40):\n",
    "    print(i)"
   ]
  },
  {
   "cell_type": "code",
   "execution_count": 104,
   "metadata": {},
   "outputs": [
    {
     "data": {
      "text/plain": [
       "1838932.373902801"
      ]
     },
     "execution_count": 104,
     "metadata": {},
     "output_type": "execute_result"
    }
   ],
   "source": [
    "for i in range(len(r_R)-1):\n",
    "    chord = np.interp((r_R[i]+r_R[i+1])/2, r_R, chord_distribution)\n",
    "    twist = np.interp((r_R[i]+r_R[i+1])/2, r_R, twist_distribution)\n",
    "    #print(chord)\n",
    "    results[i,:] = solveStreamtube(Uinf, r_R[i], r_R[i+1], RootLocation_R, TipLocation_R , Omega, Radius, NBlades, chord, twist, polar_alpha, polar_cl, polar_cd )\n",
    "    current_power_output = results[:,7].sum()\n",
    "    if i == 0:\n",
    "        max_power = current_power_output\n",
    "        continue\n",
    "    \n",
    "    if total_power < current_power_output:\n",
    "        pitch_factor"
   ]
  },
  {
   "cell_type": "code",
   "execution_count": 100,
   "metadata": {},
   "outputs": [
    {
     "data": {
      "text/plain": [
       "array([4.99712668e-01, 1.35253467e-01, 2.05000000e-01, 4.65535446e+02,\n",
       "       1.17980516e+02, 2.49083081e+01, 2.16980104e-01, 3.49352339e+03])"
      ]
     },
     "execution_count": 100,
     "metadata": {},
     "output_type": "execute_result"
    }
   ],
   "source": []
  },
  {
   "cell_type": "code",
   "execution_count": 31,
   "metadata": {},
   "outputs": [
    {
     "name": "stdout",
     "output_type": "stream",
     "text": [
      "CT is  0.8106672173810273\n",
      "CP is  0.47129566701583014\n"
     ]
    }
   ],
   "source": [
    "# plot results\n",
    "\n",
    "\n",
    "areas = (r_R[1:]**2-r_R[:-1]**2)*np.pi*Radius**2\n",
    "dr = (r_R[1:]-r_R[:-1])*Radius\n",
    "CT = np.sum(dr*results[:,3]*NBlades/(0.5*Uinf**2*np.pi*Radius**2))\n",
    "CP = np.sum(dr*results[:,4]*results[:,2]*NBlades*Radius*Omega/(0.5*Uinf**3*np.pi*Radius**2))\n",
    "\n",
    "\n",
    "\n",
    "print(\"CT is \", CT)\n",
    "print(\"CP is \", CP)\n"
   ]
  },
  {
   "cell_type": "code",
   "execution_count": 21,
   "metadata": {},
   "outputs": [
    {
     "ename": "TypeError",
     "evalue": "'float' object cannot be interpreted as an integer",
     "output_type": "error",
     "traceback": [
      "\u001b[1;31m---------------------------------------------------------------------------\u001b[0m",
      "\u001b[1;31mTypeError\u001b[0m                                 Traceback (most recent call last)",
      "\u001b[1;32m<ipython-input-21-39548bb9c71b>\u001b[0m in \u001b[0;36m<module>\u001b[1;34m\u001b[0m\n\u001b[0;32m      6\u001b[0m \u001b[0mN_blades\u001b[0m \u001b[1;33m=\u001b[0m \u001b[1;36m3\u001b[0m\u001b[1;33m\u001b[0m\u001b[1;33m\u001b[0m\u001b[0m\n\u001b[0;32m      7\u001b[0m \u001b[0mblade_start\u001b[0m \u001b[1;33m=\u001b[0m \u001b[1;36m0.2\u001b[0m \u001b[1;31m# r/R\u001b[0m\u001b[1;33m\u001b[0m\u001b[1;33m\u001b[0m\u001b[0m\n\u001b[1;32m----> 8\u001b[1;33m \u001b[0mtwist\u001b[0m \u001b[1;33m=\u001b[0m \u001b[1;33m[\u001b[0m\u001b[0mi\u001b[0m \u001b[1;32mfor\u001b[0m \u001b[0mi\u001b[0m \u001b[1;32min\u001b[0m \u001b[0mrange\u001b[0m\u001b[1;33m(\u001b[0m\u001b[1;36m0.2\u001b[0m\u001b[1;33m*\u001b[0m\u001b[0mradius\u001b[0m\u001b[1;33m,\u001b[0m \u001b[0mradius\u001b[0m\u001b[1;33m)\u001b[0m\u001b[1;33m]\u001b[0m\u001b[1;33m\u001b[0m\u001b[1;33m\u001b[0m\u001b[0m\n\u001b[0m\u001b[0;32m      9\u001b[0m \u001b[0mblade_pitch\u001b[0m \u001b[1;33m=\u001b[0m \u001b[1;33m-\u001b[0m\u001b[1;36m2\u001b[0m \u001b[1;31m# degress\u001b[0m\u001b[1;33m\u001b[0m\u001b[1;33m\u001b[0m\u001b[0m\n",
      "\u001b[1;31mTypeError\u001b[0m: 'float' object cannot be interpreted as an integer"
     ]
    }
   ],
   "source": [
    "fig1 = plt.figure(figsize=(12, 6))\n",
    "plt.title('Inflow angle')\n",
    "plt.plot(results[:,2], results[:,6], 'g--', label='alpha')\n",
    "plt.grid()\n",
    "plt.xlabel('r/R')\n",
    "plt.legend()\n",
    "plt.show()\n",
    "#fig1.savefig('tang vs r_R.png' )"
   ]
  },
  {
   "cell_type": "code",
   "execution_count": null,
   "metadata": {},
   "outputs": [],
   "source": []
  },
  {
   "cell_type": "code",
   "execution_count": 30,
   "metadata": {},
   "outputs": [
    {
     "data": {
      "text/plain": [
       "array([0.2 , 0.21, 0.22, 0.23, 0.24, 0.25, 0.26, 0.27, 0.28, 0.29, 0.3 ,\n",
       "       0.31, 0.32, 0.33, 0.34, 0.35, 0.36, 0.37, 0.38, 0.39, 0.4 , 0.41,\n",
       "       0.42, 0.43, 0.44, 0.45, 0.46, 0.47, 0.48, 0.49, 0.5 , 0.51, 0.52,\n",
       "       0.53, 0.54, 0.55, 0.56, 0.57, 0.58, 0.59, 0.6 , 0.61, 0.62, 0.63,\n",
       "       0.64, 0.65, 0.66, 0.67, 0.68, 0.69, 0.7 , 0.71, 0.72, 0.73, 0.74,\n",
       "       0.75, 0.76, 0.77, 0.78, 0.79, 0.8 , 0.81, 0.82, 0.83, 0.84, 0.85,\n",
       "       0.86, 0.87, 0.88, 0.89, 0.9 , 0.91, 0.92, 0.93, 0.94, 0.95, 0.96,\n",
       "       0.97, 0.98, 0.99, 1.  ])"
      ]
     },
     "execution_count": 30,
     "metadata": {},
     "output_type": "execute_result"
    }
   ],
   "source": [
    "r_R"
   ]
  },
  {
   "cell_type": "code",
   "execution_count": null,
   "metadata": {},
   "outputs": [],
   "source": []
  }
 ],
 "metadata": {
  "kernelspec": {
   "display_name": "Python 3",
   "language": "python",
   "name": "python3"
  },
  "language_info": {
   "codemirror_mode": {
    "name": "ipython",
    "version": 3
   },
   "file_extension": ".py",
   "mimetype": "text/x-python",
   "name": "python",
   "nbconvert_exporter": "python",
   "pygments_lexer": "ipython3",
   "version": "3.7.7"
  }
 },
 "nbformat": 4,
 "nbformat_minor": 2
}
