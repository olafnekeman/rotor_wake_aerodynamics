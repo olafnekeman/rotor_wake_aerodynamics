{
 "cells": [
  {
   "cell_type": "code",
   "execution_count": 1,
   "metadata": {},
   "outputs": [],
   "source": [
    "import numpy as np"
   ]
  },
  {
   "cell_type": "markdown",
   "metadata": {},
   "source": [
    "# quiz 7.1"
   ]
  },
  {
   "cell_type": "code",
   "execution_count": 2,
   "metadata": {},
   "outputs": [
    {
     "data": {
      "text/plain": [
       "'77,0'"
      ]
     },
     "execution_count": 2,
     "metadata": {},
     "output_type": "execute_result"
    }
   ],
   "source": [
    "# Q1\n",
    "spl1 = 76.0\n",
    "spl2 = 70.0\n",
    "\n",
    "spl_sum = 10*np.log10(10**(spl1/10)+10**(spl2/10))\n",
    "str(round(spl_sum, 1)).replace('.', ',')"
   ]
  },
  {
   "cell_type": "code",
   "execution_count": 3,
   "metadata": {},
   "outputs": [
    {
     "data": {
      "text/plain": [
       "85.5"
      ]
     },
     "execution_count": 3,
     "metadata": {},
     "output_type": "execute_result"
    }
   ],
   "source": [
    "#Q2\n",
    "spl1 = 82.0\n",
    "spl2 = 76.0\n",
    "pref = 2*10**-5\n",
    "\n",
    "p1 = pref*np.sqrt(10**(spl1/10))\n",
    "p2 = pref*np.sqrt(10**(spl2/10))\n",
    "\n",
    "a1 = np.sqrt(2*p1**2)\n",
    "a2 = np.sqrt(2*p2**2)\n",
    "\n",
    "p_sum = np.sqrt(p1**2+p2**2+a1*a2)\n",
    "spl_sum = 10*np.log10(p_sum**2/pref**2)\n",
    "round(spl_sum, 1)"
   ]
  },
  {
   "cell_type": "code",
   "execution_count": 4,
   "metadata": {},
   "outputs": [
    {
     "data": {
      "text/plain": [
       "69.6"
      ]
     },
     "execution_count": 4,
     "metadata": {},
     "output_type": "execute_result"
    }
   ],
   "source": [
    "# q3\n",
    "spl1 = 74.0\n",
    "spl2 = 66.0\n",
    "\n",
    "p1 = pref*np.sqrt(10**(spl1/10))\n",
    "p2 = pref*np.sqrt(10**(spl2/10))\n",
    "\n",
    "a1 = np.sqrt(2*p1**2)\n",
    "a2 = np.sqrt(2*p2**2)\n",
    "\n",
    "p_sum = np.sqrt(p1**2+p2**2-a1*a2)\n",
    "spl_sum = 10*np.log10(p_sum**2/pref**2)\n",
    "round(spl_sum, 1)"
   ]
  },
  {
   "cell_type": "code",
   "execution_count": 5,
   "metadata": {},
   "outputs": [
    {
     "data": {
      "text/plain": [
       "47.5"
      ]
     },
     "execution_count": 5,
     "metadata": {},
     "output_type": "execute_result"
    }
   ],
   "source": [
    "# q4\n",
    "strouhal = 0.2\n",
    "f = 679\n",
    "D = 0.014#m\n",
    "u = f*D/strouhal\n",
    "round(u,1)"
   ]
  },
  {
   "cell_type": "code",
   "execution_count": 6,
   "metadata": {},
   "outputs": [
    {
     "data": {
      "text/plain": [
       "61.9"
      ]
     },
     "execution_count": 6,
     "metadata": {},
     "output_type": "execute_result"
    }
   ],
   "source": [
    "# q5\n",
    "strouhal = 0.2\n",
    "D = 0.015\n",
    "u = 75.0\n",
    "f = 1000\n",
    "reduction = -5\n",
    "\n",
    "u2 = 10**(reduction/60)*u\n",
    "round(u2, 1)"
   ]
  },
  {
   "cell_type": "markdown",
   "metadata": {},
   "source": [
    "# quiz 7.2"
   ]
  },
  {
   "cell_type": "code",
   "execution_count": 10,
   "metadata": {},
   "outputs": [
    {
     "data": {
      "text/plain": [
       "64.0"
      ]
     },
     "execution_count": 10,
     "metadata": {},
     "output_type": "execute_result"
    }
   ],
   "source": [
    "# Q1\n",
    "spl1 = 65.0\n",
    "span_increase = 1+0.17\n",
    "\n",
    "u_decrease = np.sqrt(1/span_increase)\n",
    "p_2 = u_decrease**5*span_increase\n",
    "spl2 = spl1 + 10*np.log10(p_2)\n",
    "round(spl2, 1)"
   ]
  },
  {
   "cell_type": "code",
   "execution_count": 8,
   "metadata": {},
   "outputs": [
    {
     "data": {
      "text/plain": [
       "21.6"
      ]
     },
     "execution_count": 8,
     "metadata": {},
     "output_type": "execute_result"
    }
   ],
   "source": [
    "# q2\n",
    "D1 = 1\n",
    "f1 = 10000\n",
    "res1 = 0.05\n",
    "r1 = 1\n",
    "\n",
    "f2 = 1389\n",
    "res2 = 1\n",
    "r2 = 60\n",
    "\n",
    "D2 = D1*(f1*r2*res1)/(f2*r1*res2)\n",
    "round(D2, 1)"
   ]
  },
  {
   "cell_type": "code",
   "execution_count": 9,
   "metadata": {},
   "outputs": [
    {
     "data": {
      "text/plain": [
       "97.8"
      ]
     },
     "execution_count": 9,
     "metadata": {},
     "output_type": "execute_result"
    }
   ],
   "source": [
    "# q3\n",
    "c = 1\n",
    "f = 5*10**3\n",
    "spl1 = 96.0\n",
    "theta1 = 90\n",
    "theta2 = 120.0\n",
    "\n",
    "spl2 = spl1 + 10*np.log10(np.sin(theta2/2*np.pi/180)**2/np.sin(theta1/2*np.pi/180)**2)\n",
    "round(spl2, 1)"
   ]
  },
  {
   "cell_type": "code",
   "execution_count": null,
   "metadata": {},
   "outputs": [],
   "source": []
  },
  {
   "cell_type": "code",
   "execution_count": null,
   "metadata": {},
   "outputs": [],
   "source": []
  }
 ],
 "metadata": {
  "kernelspec": {
   "display_name": "Python 3",
   "language": "python",
   "name": "python3"
  },
  "language_info": {
   "codemirror_mode": {
    "name": "ipython",
    "version": 3
   },
   "file_extension": ".py",
   "mimetype": "text/x-python",
   "name": "python",
   "nbconvert_exporter": "python",
   "pygments_lexer": "ipython3",
   "version": "3.7.7"
  }
 },
 "nbformat": 4,
 "nbformat_minor": 4
}
