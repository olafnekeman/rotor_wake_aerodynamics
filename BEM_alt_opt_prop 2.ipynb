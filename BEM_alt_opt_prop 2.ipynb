{
 "cells": [
  {
   "cell_type": "code",
   "execution_count": 1,
   "metadata": {},
   "outputs": [],
   "source": [
    "import numpy as np\n",
    "import matplotlib.pyplot as plt\n",
    "import pandas as pd"
   ]
  },
  {
   "cell_type": "code",
   "execution_count": 2,
   "metadata": {},
   "outputs": [],
   "source": [
    "def CTfunction(a, glauert = False):\n",
    "    \"\"\"\n",
    "    This function calculates the thrust coefficient as a function of induction factor 'a'\n",
    "    'glauert' defines if the Glauert correction for heavily loaded rotors should be used; default value is false\n",
    "    \"\"\"\n",
    "    CT = np.zeros(np.shape(a))\n",
    "    CT = 4*a*(1-a)  \n",
    "    if glauert:\n",
    "        CT1=1.816;\n",
    "        a1=1-np.sqrt(CT1)/2;\n",
    "        CT[a>a1] = CT1-4*(np.sqrt(CT1)-1)*(1-a[a>a1])\n",
    "    \n",
    "    return CT\n",
    "  \n",
    "    \n",
    "def ainduction(CT):\n",
    "    \"\"\"\n",
    "    This function calculates the induction factor 'a' as a function of thrust coefficient CT \n",
    "    including Glauert's correction\n",
    "    \"\"\"\n",
    "    a = np.zeros(np.shape(CT))\n",
    "    CT1=1.816;\n",
    "    CT2=2*np.sqrt(CT1)-CT1\n",
    "    \n",
    "\n",
    "    \n",
    "    corrected_indeces = np.invert((CT<CT2) & (CT>-CT2))\n",
    "    \n",
    "    a[CT>=CT2] = 1 + (CT[CT>=CT2]-CT1)/(4*(np.sqrt(CT1)-1))\n",
    "    a[(CT<CT2) & (CT>=0) ] = 0.5-0.5*np.sqrt(1-CT[(CT<CT2) & (CT>=0)])\n",
    "    a[(CT<0) & (CT>-CT2) ] = -(0.5-0.5*np.sqrt(1+CT[(CT<0) & (CT>-CT2)]))    \n",
    "    a[CT<=-CT2] = -(1 + (-CT[CT<=-CT2]-CT1)/(4*(np.sqrt(CT1)-1)))\n",
    "\n",
    "\n",
    "    return a\n",
    "\n",
    "def ainduction_old(CT):\n",
    "    \"\"\"\n",
    "    This function calculates the induction factor 'a' as a function of thrust coefficient CT \n",
    "    including Glauert's correction\n",
    "    \"\"\"\n",
    "    a = np.zeros(np.shape(CT))\n",
    "    CT1=1.816;\n",
    "    CT2=2*np.sqrt(CT1)-CT1\n",
    "    a[CT>=CT2] = 1 + (CT[CT>=CT2]-CT1)/(4*(np.sqrt(CT1)-1))\n",
    "    a[CT<CT2] = 0.5-0.5*np.sqrt(1-CT[CT<CT2])\n",
    "    return a\n",
    "\n",
    "def PrandtlTipRootCorrection(r_R, rootradius_R, tipradius_R, TSR, NBlades, axial_induction):\n",
    "    \"\"\"\n",
    "    This function calcualte steh combined tip and root Prandtl correction at agiven radial position 'r_R' (non-dimensioned by rotor radius), \n",
    "    given a root and tip radius (also non-dimensioned), a tip speed ratio TSR, the number lf blades NBlades and the axial induction factor\n",
    "    \"\"\"\n",
    "    temp1 = -NBlades/2*(tipradius_R-r_R)/r_R*np.sqrt( 1+ ((TSR*r_R)**2)/((1-axial_induction)**2))\n",
    "    Ftip = np.array(2/np.pi*np.arccos(np.exp(temp1)))\n",
    "    Ftip[np.isnan(Ftip)] = 0\n",
    "    temp1 = NBlades/2*(rootradius_R-r_R)/r_R*np.sqrt( 1+ ((TSR*r_R)**2)/((1-axial_induction)**2))\n",
    "    Froot = np.array(2/np.pi*np.arccos(np.exp(temp1)))\n",
    "    Froot[np.isnan(Froot)] = 0\n",
    "    return Froot*Ftip, Ftip, Froot\n",
    "\n",
    "def loadBladeElement(vnorm, vtan, r_R, chord, twist, polar_alpha, polar_cl, polar_cd, rho):\n",
    "    \"\"\"\n",
    "    calculates the load in the blade element\n",
    "    \"\"\"\n",
    "    vmag2 = vnorm**2 + vtan**2\n",
    "    inflowangle = np.arctan2(vnorm,vtan)\n",
    "    alpha = inflowangle*180/np.pi - twist\n",
    "    \n",
    "    #print(inflowangle*180/np.pi,twist,alpha)\n",
    "\n",
    "    cl = np.interp(alpha, polar_alpha, polar_cl)\n",
    "    cd = np.interp(alpha, polar_alpha, polar_cd)\n",
    "    lift = 0.5*rho*vmag2*cl*chord\n",
    "    drag = 0.5*rho*vmag2*cd*chord\n",
    "    fnorm = lift*np.cos(inflowangle)+drag*np.sin(inflowangle)\n",
    "    ftan = lift*np.sin(inflowangle)-drag*np.cos(inflowangle)\n",
    "    gamma = 0.5*rho*np.sqrt(vmag2)*cl*chord\n",
    "    return fnorm , ftan, gamma\n",
    "\n",
    "def solveStreamtube(Uinf, r1_R, r2_R, rootradius_R, tipradius_R , Omega, Radius, NBlades, chord, twist, polar_alpha, polar_cl, polar_cd, rho=1 ):\n",
    "    \"\"\"\n",
    "    solve balance of momentum between blade element load and loading in the streamtube\n",
    "    input variables:\n",
    "    Uinf - wind speed at infinity\n",
    "    r1_R,r2_R - edges of blade element, in fraction of Radius ;\n",
    "    rootradius_R, tipradius_R - location of blade root and tip, in fraction of Radius ;\n",
    "    Radius is the rotor radius\n",
    "    Omega -rotational velocity\n",
    "    NBlades - number of blades in rotor\n",
    "    \"\"\"\n",
    "    Area = np.pi*((r2_R*Radius)**2-(r1_R*Radius)**2) #  area streamtube\n",
    "    r_R = (r1_R+r2_R)/2 # centroide\n",
    "    # initiatlize variables\n",
    "    a = 0.0# axial induction\n",
    "    aline = 0.0 # tangential induction factor\n",
    "    \n",
    "    Niterations = 2000\n",
    "    Erroriterations =0.00001 # error limit for iteration rpocess, in absolute value of induction\n",
    "    \n",
    "    T_history = []\n",
    "    \n",
    "    \n",
    "    for i in range(Niterations):\n",
    "        # ///////////////////////////////////////////////////////////////////////\n",
    "        # // this is the block \"Calculate velocity and loads at blade element\"\n",
    "        # ///////////////////////////////////////////////////////////////////////\n",
    "        Urotor = Uinf*(1-a) # axial velocity at rotor\n",
    "        Utan = (1+aline)*Omega*r_R*Radius # tangential velocity at rotor\n",
    "        # calculate loads in blade segment in 2D (N/m)\n",
    "        fnorm, ftan, gamma = loadBladeElement(Urotor, Utan, r_R,chord, twist, polar_alpha, polar_cl, polar_cd, rho=1)\n",
    "        load3Daxial =fnorm*Radius*(r2_R-r1_R)*NBlades # 3D force in axial direction\n",
    "        # load3Dtan =loads[1]*Radius*(r2_R-r1_R)*NBlades # 3D force in azimuthal/tangential direction (not used here)\n",
    "        \n",
    "        T_history.append(load3Daxial)\n",
    "        # ///////////////////////////////////////////////////////////////////////\n",
    "        # //the block \"Calculate velocity and loads at blade element\" is done\n",
    "        # ///////////////////////////////////////////////////////////////////////\n",
    "\n",
    "        # ///////////////////////////////////////////////////////////////////////\n",
    "        # // this is the block \"Calculate new estimate of axial and azimuthal induction\"\n",
    "        # ///////////////////////////////////////////////////////////////////////\n",
    "        # // calculate thrust coefficient at the streamtube\n",
    "        CT = load3Daxial/(0.5*Area*Uinf**2)\n",
    "        \n",
    "        \n",
    "        # calculate new axial induction, accounting for Glauert's correction\n",
    "        anew =  ainduction(CT)\n",
    "                \n",
    "        # correct new axial induction with Prandtl's correction\n",
    "        Prandtl, Prandtltip, Prandtlroot = PrandtlTipRootCorrection(r_R, rootradius_R, tipradius_R, Omega*Radius/Uinf, NBlades, anew);\n",
    "        if (Prandtl < 0.0001): \n",
    "            Prandtl = 0.0001 # avoid divide by zero\n",
    "            \n",
    "        anew = anew/Prandtl # correct estimate of axial induction\n",
    "        if anew>0.95:\n",
    "            anew=0.95\n",
    "        elif anew<-0.95:\n",
    "            anew = -0.95\n",
    "        \n",
    "        a = 0.95*a+0.05*anew # for improving convergence, weigh current and previous iteration of axial induction\n",
    "        \n",
    "        # calculate aximuthal induction\n",
    "        aline_old = 1*aline\n",
    "        \n",
    "        if abs(aline_old) < 0.0001:\n",
    "            aline_old = 0.0001\n",
    "            \n",
    "        aline = ftan*NBlades/(2*rho*np.pi*Uinf*(1-a)*Omega*2*(r_R*Radius)**2)\n",
    "        aline = aline/Prandtl # correct estimate of azimuthal induction with Prandtl's correction\n",
    "        \n",
    "        max_perc_change = 0.05\n",
    "        \n",
    "        if abs(aline-aline_old)/aline_old > max_perc_change:\n",
    "            if aline > aline_old:\n",
    "                aline = aline_old + abs(max_perc_change*aline_old)\n",
    "            elif aline < aline_old:\n",
    "                aline = aline_old - abs(max_perc_change*aline_old)\n",
    "        \n",
    "#         aline = 0.95*aline_old + 0.05*aline\n",
    "    \n",
    "        if aline > 0.95:\n",
    "            aline = 0.95\n",
    "        elif aline<-0.95:\n",
    "            aline = -0.95\n",
    "        \n",
    "        #print('a: {},aline: {}'.format(a,aline))\n",
    "        # ///////////////////////////////////////////////////////////////////////////\n",
    "        # // end of the block \"Calculate new estimate of axial and azimuthal induction\"\n",
    "        # ///////////////////////////////////////////////////////////////////////\n",
    "        \n",
    "        #// test convergence of solution, by checking convergence of axial induction\n",
    "        if (np.abs(a-anew) < Erroriterations): \n",
    "            # print(\"iterations\")\n",
    "            # print(i)\n",
    "            break\n",
    "    if i == Niterations-1:\n",
    "        print('WARNING: one annulus of the BEM model between mu_i = {} and mu_i+1 = {} did not converge within {} iterations, consider increasing iteration amount.'.format(r1_R, r2_R, Niterations))\n",
    "#    print(a,aline)\n",
    "#    print('done')\n",
    "    return [a , aline, r_R, fnorm , ftan, gamma]"
   ]
  },
  {
   "cell_type": "code",
   "execution_count": 3,
   "metadata": {},
   "outputs": [],
   "source": [
    "#read in the polar data\n",
    "airfoil = 'ARA_polar.txt'\n",
    "data1=pd.read_csv(airfoil, header=0,\n",
    "            names = [\"alfa\", \"cl\", \"cd\", \"cm\"],  sep='\\s+')\n",
    "\n",
    "#flip the dataframe to make sure alpha will be increasing for the np.interp function in the propeller case\n",
    "data1 = data1.iloc[::-1]\n",
    "polar_alpha = data1['alfa'][:]\n",
    "polar_cl = data1['cl'][:]\n",
    "polar_cd = data1['cd'][:]\n",
    "index = np.argmax(polar_cl/polar_cd)\n",
    "\n"
   ]
  },
  {
   "cell_type": "code",
   "execution_count": 5,
   "metadata": {},
   "outputs": [
    {
     "data": {
      "text/plain": [
       "7.5"
      ]
     },
     "execution_count": 5,
     "metadata": {},
     "output_type": "execute_result"
    }
   ],
   "source": [
    "if airfoil == 'ARA_polar.txt':\n",
    "    #make both the cl and the alpha negative for the propeller case\n",
    "    polar_alpha = -1*polar_alpha\n",
    "    polar_cl = -1*polar_cl\n",
    "    \n",
    "#find the value for the angle of attack that has maximum l/d to minimize drag losses\n",
    "alpha_opt = polar_alpha[index]\n",
    "alpha_opt"
   ]
  },
  {
   "cell_type": "code",
   "execution_count": 6,
   "metadata": {},
   "outputs": [
    {
     "data": {
      "text/plain": [
       "1"
      ]
     },
     "execution_count": 6,
     "metadata": {},
     "output_type": "execute_result"
    }
   ],
   "source": [
    "d = data1.iloc[::-1]\n",
    "np.argmin(d['cl']/d['cd'])"
   ]
  },
  {
   "cell_type": "code",
   "execution_count": 7,
   "metadata": {},
   "outputs": [],
   "source": [
    "#function to find the optimum induction factor for a radial location\n",
    "def find_a_opt(r_R, rootradius_R, tipradius_R, TSR, NBlades):\n",
    "    current_a = 0.0\n",
    "    epsilon = 100\n",
    "    \n",
    "    while epsilon > 0.001:\n",
    "        \n",
    "        fcor,_,_ = PrandtlTipRootCorrection(r_R, rootradius_R, tipradius_R, TSR, NBlades, current_a)\n",
    "        \n",
    "        a_calc = 1/3+1/3*fcor-1/3*np.sqrt(1-fcor+fcor**2)\n",
    "        \n",
    "        epsilon = abs(current_a-a_calc)\n",
    "        \n",
    "        current_a = 1*a_calc\n",
    "        \n",
    "    return current_a, fcor\n"
   ]
  },
  {
   "cell_type": "code",
   "execution_count": 8,
   "metadata": {},
   "outputs": [
    {
     "name": "stdout",
     "output_type": "stream",
     "text": [
      "started with 0.25\n",
      "started with 0.26\n",
      "started with 0.27\n",
      "started with 0.28\n",
      "started with 0.29000000000000004\n",
      "started with 0.30000000000000004\n",
      "started with 0.31000000000000005\n",
      "started with 0.32000000000000006\n",
      "started with 0.33000000000000007\n",
      "started with 0.3400000000000001\n",
      "started with 0.3500000000000001\n",
      "started with 0.3600000000000001\n",
      "started with 0.3700000000000001\n",
      "started with 0.3800000000000001\n",
      "started with 0.3900000000000001\n",
      "started with 0.40000000000000013\n",
      "started with 0.41000000000000014\n",
      "started with 0.42000000000000015\n",
      "started with 0.43000000000000016\n",
      "started with 0.44000000000000017\n",
      "started with 0.4500000000000002\n",
      "started with 0.4600000000000002\n",
      "started with 0.4700000000000002\n",
      "started with 0.4800000000000002\n",
      "started with 0.4900000000000002\n",
      "started with 0.5000000000000002\n",
      "started with 0.5100000000000002\n",
      "started with 0.5200000000000002\n",
      "started with 0.5300000000000002\n",
      "started with 0.5400000000000003\n",
      "started with 0.5500000000000003\n",
      "started with 0.5600000000000003\n",
      "started with 0.5700000000000003\n",
      "started with 0.5800000000000003\n",
      "started with 0.5900000000000003\n",
      "started with 0.6000000000000003\n",
      "started with 0.6100000000000003\n",
      "started with 0.6200000000000003\n",
      "started with 0.6300000000000003\n",
      "started with 0.6400000000000003\n",
      "started with 0.6500000000000004\n",
      "started with 0.6600000000000004\n",
      "started with 0.6700000000000004\n",
      "started with 0.6800000000000004\n",
      "started with 0.6900000000000004\n",
      "started with 0.7000000000000004\n",
      "started with 0.7100000000000004\n",
      "started with 0.7200000000000004\n",
      "started with 0.7300000000000004\n",
      "started with 0.7400000000000004\n",
      "started with 0.7500000000000004\n",
      "started with 0.7600000000000005\n",
      "started with 0.7700000000000005\n",
      "started with 0.7800000000000005\n",
      "started with 0.7900000000000005\n",
      "started with 0.8000000000000005\n",
      "started with 0.8100000000000005\n",
      "started with 0.8200000000000005\n",
      "started with 0.8300000000000005\n",
      "started with 0.8400000000000005\n",
      "started with 0.8500000000000005\n",
      "started with 0.8600000000000005\n",
      "started with 0.8700000000000006\n",
      "started with 0.8800000000000006\n",
      "started with 0.8900000000000006\n",
      "started with 0.9000000000000006\n",
      "started with 0.9100000000000006\n",
      "started with 0.9200000000000006\n",
      "started with 0.9300000000000006\n",
      "started with 0.9400000000000006\n",
      "started with 0.9500000000000006\n",
      "started with 0.9600000000000006\n",
      "started with 0.9700000000000006\n",
      "started with 0.9800000000000006\n",
      "started with 0.9900000000000007\n"
     ]
    }
   ],
   "source": [
    "\"\"\"\n",
    "Constants for the prop\n",
    "\"\"\"\n",
    "# Initialize the constants\n",
    "airfoil = 'ARA_polar.txt'\n",
    "delta_r_R = .01\n",
    "Uinf = 60 # unperturbed wind speed in m/s\n",
    "\n",
    "n = 1200\n",
    "Omega = n*2*np.pi/60\n",
    "\n",
    "pitch = 46\n",
    "\n",
    "Radius = 0.7\n",
    "NBlades = 6\n",
    "\n",
    "TipLocation_R =  1\n",
    "RootLocation_R =  0.25\n",
    "\n",
    "\n",
    "TSR = Omega*Radius/Uinf # tip speed ratio\n",
    "\n",
    "r_R = np.arange(RootLocation_R, 1+delta_r_R/2, delta_r_R)\n",
    "\n",
    "#empty arrays for the results\n",
    "results =np.zeros([len(r_R)-1,6]) \n",
    "twist_dist = np.zeros(len(r_R)-1)\n",
    "centroids = np.zeros(len(r_R)-1)\n",
    "opt_c_dist = np.zeros(len(r_R)-1)\n",
    "\n",
    "#run through all the annuli\n",
    "for i in range(len(r_R)-1):\n",
    "    #find the centroid\n",
    "    print(\"started with {}\".format(r_R[i]))\n",
    "    r_loc = (r_R[i]+r_R[i+1])/2\n",
    "    \n",
    "    #find the value for the optimum induction factor\n",
    "    a_opt, fcor = find_a_opt(r_loc, RootLocation_R, TipLocation_R, TSR, NBlades)\n",
    "    \n",
    "    #detrmine the optimum inflow angle for each annulus\n",
    "    numerator = 1-a_opt/fcor\n",
    "    denominator = TSR*r_loc*(1+(a_opt*numerator)/(TSR**2*r_loc**2*fcor))\n",
    "    \n",
    "    inflow_angle = np.arctan2(numerator,denominator)\n",
    "    \n",
    "    #find the corresponding optimum twist for the annulus\n",
    "    twist_opt =  inflow_angle*180/np.pi - alpha_opt\n",
    "    \n",
    "    #initialize a first guess for the chord\n",
    "    chord0 = 0.18-0.06*r_loc\n",
    "    \n",
    "    #save the centroid and twist distribution for plotting purposes\n",
    "    centroids[i] = r_loc\n",
    "    twist_dist[i] = twist_opt\n",
    "    \n",
    "    #step to numerically determine gradients\n",
    "    h = 0.00001\n",
    "    \n",
    "    #set the current chord and dummy value for the error\n",
    "    current_chord = 1*chord0\n",
    "    epsilon = 100\n",
    "    \n",
    "    #make a while loop that checks if the optimum induction factor is reached for the current chord\n",
    "    #if not, update the chord accordingly\n",
    "    while abs(epsilon) > 0.001:\n",
    "        #solve the streamtube\n",
    "        results[i,:] = solveStreamtube(Uinf, r_R[i], r_R[i+1], RootLocation_R, TipLocation_R , Omega, Radius, NBlades, current_chord, twist_opt, polar_alpha, polar_cl, polar_cd )\n",
    "        \n",
    "        #find how far the current induction factor is from the optimum\n",
    "        epsilon = (results[i,0]-a_opt)/a_opt\n",
    "        \n",
    "        #values for the chord for the derivative\n",
    "        chord_plus_h = current_chord + h\n",
    "        chord_min_h = current_chord - h\n",
    "        \n",
    "        #find the value for the induction factor for the chord + h \n",
    "        results[i,:] = solveStreamtube(Uinf, r_R[i], r_R[i+1], RootLocation_R, TipLocation_R , Omega, Radius, NBlades, chord_plus_h, twist_opt, polar_alpha, polar_cl, polar_cd )\n",
    "        a_plus = results[i,0]\n",
    "        \n",
    "        #find the value for the induction factor for the chord - h \n",
    "        results[i,:] = solveStreamtube(Uinf, r_R[i], r_R[i+1], RootLocation_R, TipLocation_R , Omega, Radius, NBlades, chord_min_h, twist_opt, polar_alpha, polar_cl, polar_cd )\n",
    "        a_min = results[i,0]\n",
    "        \n",
    "        #calculate the derivative\n",
    "        df_dc = (a_plus-a_min)/(2*h*a_opt)\n",
    "        \n",
    "        #calculate the step that needs to be taken according to the Newton Rhapson method\n",
    "        step = epsilon/df_dc\n",
    "        \n",
    "        #limit that step to 5 cm to prevent stepping into an unphysical situation\n",
    "        if step > 0.05:\n",
    "            step = 0.05\n",
    "        elif step < -0.05:\n",
    "            step = -0.05\n",
    "        \n",
    "        #update the current chord\n",
    "        current_chord = current_chord - step\n",
    "    \n",
    "    #save the current chord in an array for plotting later on\n",
    "    opt_c_dist[i] = current_chord\n",
    "    \n",
    "    #recalculate the results for the streamtube\n",
    "    results[i,:] = solveStreamtube(Uinf, r_R[i], r_R[i+1], RootLocation_R, TipLocation_R , Omega, Radius, NBlades, current_chord, twist_opt, polar_alpha, polar_cl, polar_cd )\n",
    "    "
   ]
  },
  {
   "cell_type": "code",
   "execution_count": 9,
   "metadata": {},
   "outputs": [
    {
     "name": "stdout",
     "output_type": "stream",
     "text": [
      "CT is  0.6220921155034466\n",
      "CP is  0.38486936647768466\n"
     ]
    },
    {
     "data": {
      "text/plain": [
       "[<matplotlib.lines.Line2D at 0x2620e49c048>]"
      ]
     },
     "execution_count": 9,
     "metadata": {},
     "output_type": "execute_result"
    },
    {
     "data": {
      "image/png": "[encoded data removed]",
      "text/plain": [
       "<Figure size 432x288 with 1 Axes>"
      ]
     },
     "metadata": {
      "needs_background": "light"
     },
     "output_type": "display_data"
    },
    {
     "data": {
      "image/png": "[encoded data removed]",
      "text/plain": [
       "<Figure size 432x288 with 1 Axes>"
      ]
     },
     "metadata": {
      "needs_background": "light"
     },
     "output_type": "display_data"
    },
    {
     "data": {
      "image/png": "[encoded data removed]",
      "text/plain": [
       "<Figure size 432x288 with 1 Axes>"
      ]
     },
     "metadata": {
      "needs_background": "light"
     },
     "output_type": "display_data"
    },
    {
     "data": {
      "image/png": "[encoded data removed]",
      "text/plain": [
       "<Figure size 432x288 with 1 Axes>"
      ]
     },
     "metadata": {
      "needs_background": "light"
     },
     "output_type": "display_data"
    },
    {
     "data": {
      "image/png": "[encoded data removed]",
      "text/plain": [
       "<Figure size 432x288 with 1 Axes>"
      ]
     },
     "metadata": {
      "needs_background": "light"
     },
     "output_type": "display_data"
    }
   ],
   "source": [
    "# plot results and calculate the coefficients\n",
    "areas = (r_R[1:]**2-r_R[:-1]**2)*np.pi*Radius**2\n",
    "dr = (r_R[1:]-r_R[:-1])*Radius\n",
    "\n",
    "results[:,3][np.isnan(results[:,3])] = 0\n",
    "results[:,4][np.isnan(results[:,4])] = 0\n",
    "\n",
    "CT = np.sum(dr*results[:,3]*NBlades/(0.5*Uinf**2*np.pi*Radius**2))\n",
    "CP = np.sum(dr*results[:,4]*results[:,2]*NBlades*Radius*Omega/(0.5*Uinf**3*np.pi*Radius**2))\n",
    "\n",
    "print(\"CT is \", CT)\n",
    "print(\"CP is \", CP)\n",
    "\n",
    "\n",
    "plt.figure()\n",
    "plt.title('Chord distribution')\n",
    "plt.grid(True)\n",
    "plt.plot(centroids,-opt_c_dist)\n",
    "\n",
    "plt.figure()\n",
    "plt.grid(True)\n",
    "plt.title('Twist distribution')\n",
    "plt.plot(centroids,twist_dist)\n",
    "\n",
    "plt.figure()\n",
    "plt.grid(True)\n",
    "plt.title('Axial Force')\n",
    "plt.plot(centroids,results[:,3])\n",
    "\n",
    "\n",
    "plt.figure()\n",
    "plt.grid(True)\n",
    "plt.title('Tangential Force')\n",
    "plt.plot(centroids,results[:,4])\n",
    "\n",
    "\n",
    "plt.figure()\n",
    "plt.grid(True)\n",
    "plt.title('Axial induction')\n",
    "plt.plot(centroids,results[:,0])"
   ]
  },
  {
   "cell_type": "code",
   "execution_count": 10,
   "metadata": {},
   "outputs": [],
   "source": [
    "chord = [-0.05139898, -0.11895332, -0.16872725, -0.20837842, -0.24114258,\n",
    "       -0.26883677, -0.29261428, -0.31326258, -0.33134608, -0.34728329,\n",
    "       -0.36139513, -0.37393222, -0.38509571, -0.39504802, -0.40392343,\n",
    "       -0.41183346, -0.41887377, -0.42512437, -0.43065565, -0.43552729,\n",
    "       -0.43979251, -0.44349813, -0.44668441, -0.44938816, -0.45164176,\n",
    "       -0.45347444, -0.45491122, -0.45597546, -0.45668763, -0.45706593,\n",
    "       -0.45712645, -0.45688331, -0.45634882, -0.45553351, -0.45444664,\n",
    "       -0.45309467, -0.45148364, -0.44961762, -0.44749908, -0.44512896,\n",
    "       -0.44250651, -0.43962938, -0.43649346, -0.43309288, -0.42941988,\n",
    "       -0.42546472, -0.42121565, -0.41665846, -0.41177689, -0.40655196,\n",
    "       -0.40096201, -0.39498248, -0.38858569, -0.381741  , -0.37441294,\n",
    "       -0.36656333, -0.3581494 , -0.34912418, -0.33943453, -0.32907887,\n",
    "       -0.31788585, -0.3058371 , -0.29285442, -0.27885182, -0.2637341 ,\n",
    "       -0.24739567, -0.22971939, -0.21057327, -0.18981114, -0.16721916,\n",
    "       -0.1427112 , -0.11600965, -0.08684387, -0.0548571 , -0.0194645 ]"
   ]
  },
  {
   "cell_type": "code",
   "execution_count": 11,
   "metadata": {},
   "outputs": [],
   "source": [
    "chord2 = [-i for i in chord]"
   ]
  },
  {
   "cell_type": "code",
   "execution_count": 12,
   "metadata": {},
   "outputs": [
    {
     "name": "stdout",
     "output_type": "stream",
     "text": [
      "[0.05139898, 0.11895332, 0.16872725, 0.20837842, 0.24114258, 0.26883677, 0.29261428, 0.31326258, 0.33134608, 0.34728329, 0.36139513, 0.37393222, 0.38509571, 0.39504802, 0.40392343, 0.41183346, 0.41887377, 0.42512437, 0.43065565, 0.43552729, 0.43979251, 0.44349813, 0.44668441, 0.44938816, 0.45164176, 0.45347444, 0.45491122, 0.45597546, 0.45668763, 0.45706593, 0.45712645, 0.45688331, 0.45634882, 0.45553351, 0.45444664, 0.45309467, 0.45148364, 0.44961762, 0.44749908, 0.44512896, 0.44250651, 0.43962938, 0.43649346, 0.43309288, 0.42941988, 0.42546472, 0.42121565, 0.41665846, 0.41177689, 0.40655196, 0.40096201, 0.39498248, 0.38858569, 0.381741, 0.37441294, 0.36656333, 0.3581494, 0.34912418, 0.33943453, 0.32907887, 0.31788585, 0.3058371, 0.29285442, 0.27885182, 0.2637341, 0.24739567, 0.22971939, 0.21057327, 0.18981114, 0.16721916, 0.1427112, 0.11600965, 0.08684387, 0.0548571, 0.0194645]\n"
     ]
    }
   ],
   "source": [
    "print(chord2)\n"
   ]
  },
  {
   "cell_type": "code",
   "execution_count": 13,
   "metadata": {},
   "outputs": [
    {
     "data": {
      "text/plain": [
       "array([19.56213459, 21.0027812 , 22.04052124, 22.85770294, 23.5164957 ,\n",
       "       24.05118268, 24.48458539, 24.83337657, 25.11039231, 25.32584627,\n",
       "       25.48805246, 25.60389383, 25.6791444 , 25.71870031, 25.72675078,\n",
       "       25.70690762, 25.6623053 , 25.5956795 , 25.50942963, 25.40566908,\n",
       "       25.28626621, 25.15287787, 25.00697724, 24.84987705, 24.68274901,\n",
       "       24.50664033, 24.32248769, 24.13112918, 23.93331459, 23.72971425,\n",
       "       23.52092665, 23.30748506, 23.0898633 , 22.86848075, 22.64370665,\n",
       "       22.41586394, 22.18523251, 21.95205203, 21.71652441, 21.47881584,\n",
       "       21.23905858, 20.99735235, 20.75376554, 20.50833605, 20.26107194,\n",
       "       20.01195182, 19.76092493, 19.50791109, 19.25280023, 18.99545183,\n",
       "       18.73569396, 18.47332206, 18.20809743, 17.93974535, 17.66795276,\n",
       "       17.39236562, 17.11258563, 16.82816645, 16.53860916, 16.24533028,\n",
       "       15.94384477, 15.63532988, 15.31900234, 14.9939818 , 14.65927256,\n",
       "       14.31373729, 13.95605695, 13.58466588, 13.19763999, 12.79122612,\n",
       "       12.36479614, 11.91145333, 11.42167243, 10.87433262, 10.19454997])"
      ]
     },
     "execution_count": 13,
     "metadata": {},
     "output_type": "execute_result"
    }
   ],
   "source": [
    "twist_dist"
   ]
  },
  {
   "cell_type": "code",
   "execution_count": null,
   "metadata": {},
   "outputs": [],
   "source": []
  }
 ],
 "metadata": {
  "kernelspec": {
   "display_name": "Python 3",
   "language": "python",
   "name": "python3"
  },
  "language_info": {
   "codemirror_mode": {
    "name": "ipython",
    "version": 3
   },
   "file_extension": ".py",
   "mimetype": "text/x-python",
   "name": "python",
   "nbconvert_exporter": "python",
   "pygments_lexer": "ipython3",
   "version": "3.7.7"
  }
 },
 "nbformat": 4,
 "nbformat_minor": 2
}
