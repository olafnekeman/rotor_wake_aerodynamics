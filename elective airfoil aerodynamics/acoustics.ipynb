{
 "cells": [
  {
   "cell_type": "code",
   "execution_count": 1,
   "metadata": {},
   "outputs": [],
   "source": [
    "import numpy as np"
   ]
  },
  {
   "cell_type": "markdown",
   "metadata": {},
   "source": [
    "# quiz 7.1"
   ]
  },
  {
   "cell_type": "code",
   "execution_count": 24,
   "metadata": {},
   "outputs": [
    {
     "data": {
      "text/plain": [
       "'78,2'"
      ]
     },
     "execution_count": 24,
     "metadata": {},
     "output_type": "execute_result"
    }
   ],
   "source": [
    "# Q1\n",
    "spl1 = 77.0\n",
    "spl2 = 72.0\n",
    "\n",
    "spl_sum = 10*np.log10(10**(spl1/10)+10**(spl2/10))\n",
    "str(round(spl_sum, 1)).replace('.', ',')"
   ]
  },
  {
   "cell_type": "code",
   "execution_count": 25,
   "metadata": {},
   "outputs": [
    {
     "data": {
      "text/plain": [
       "86.9"
      ]
     },
     "execution_count": 25,
     "metadata": {},
     "output_type": "execute_result"
    }
   ],
   "source": [
    "#Q2\n",
    "spl1 = 83.0\n",
    "spl2 = 78.0\n",
    "pref = 2*10**-5\n",
    "\n",
    "p1 = pref*np.sqrt(10**(spl1/10))\n",
    "p2 = pref*np.sqrt(10**(spl2/10))\n",
    "\n",
    "a1 = np.sqrt(2*p1**2)\n",
    "a2 = np.sqrt(2*p2**2)\n",
    "\n",
    "p_sum = np.sqrt(p1**2+p2**2+a1*a2)\n",
    "spl_sum = 10*np.log10(p_sum**2/pref**2)\n",
    "round(spl_sum, 1)"
   ]
  },
  {
   "cell_type": "code",
   "execution_count": 26,
   "metadata": {},
   "outputs": [
    {
     "data": {
      "text/plain": [
       "68.6"
      ]
     },
     "execution_count": 26,
     "metadata": {},
     "output_type": "execute_result"
    }
   ],
   "source": [
    "# q3\n",
    "spl1 = 73.0\n",
    "spl2 = 65.0\n",
    "\n",
    "p1 = pref*np.sqrt(10**(spl1/10))\n",
    "p2 = pref*np.sqrt(10**(spl2/10))\n",
    "\n",
    "a1 = np.sqrt(2*p1**2)\n",
    "a2 = np.sqrt(2*p2**2)\n",
    "\n",
    "p_sum = np.sqrt(p1**2+p2**2-a1*a2)\n",
    "spl_sum = 10*np.log10(p_sum**2/pref**2)\n",
    "round(spl_sum, 1)"
   ]
  },
  {
   "cell_type": "code",
   "execution_count": 27,
   "metadata": {},
   "outputs": [
    {
     "data": {
      "text/plain": [
       "42.2"
      ]
     },
     "execution_count": 27,
     "metadata": {},
     "output_type": "execute_result"
    }
   ],
   "source": [
    "# q4\n",
    "strouhal = 0.2\n",
    "f = 938\n",
    "D = 0.009 #m\n",
    "u = f*D/strouhal\n",
    "round(u,1)"
   ]
  },
  {
   "cell_type": "code",
   "execution_count": 28,
   "metadata": {},
   "outputs": [
    {
     "data": {
      "text/plain": [
       "72.2"
      ]
     },
     "execution_count": 28,
     "metadata": {},
     "output_type": "execute_result"
    }
   ],
   "source": [
    "# q5\n",
    "strouhal = 0.2\n",
    "D = 0.015\n",
    "u = 75.0\n",
    "f = 1000\n",
    "reduction = -1\n",
    "\n",
    "u2 = 10**(reduction/60)*u\n",
    "round(u2, 1)"
   ]
  },
  {
   "cell_type": "markdown",
   "metadata": {},
   "source": [
    "# quiz 7.2"
   ]
  },
  {
   "cell_type": "code",
   "execution_count": 90,
   "metadata": {},
   "outputs": [
    {
     "data": {
      "text/plain": [
       "74.6"
      ]
     },
     "execution_count": 90,
     "metadata": {},
     "output_type": "execute_result"
    }
   ],
   "source": [
    "# Q1\n",
    "spl1 = 75.0\n",
    "span_increase = 1+0.07\n",
    "\n",
    "u_decrease = np.sqrt(1/span_increase)\n",
    "p_2 = u_decrease**5*span_increase\n",
    "spl2 = spl1 + 10*np.log10(p_2)\n",
    "round(spl2, 1)"
   ]
  },
  {
   "cell_type": "code",
   "execution_count": 91,
   "metadata": {},
   "outputs": [
    {
     "data": {
      "text/plain": [
       "4.7"
      ]
     },
     "execution_count": 91,
     "metadata": {},
     "output_type": "execute_result"
    }
   ],
   "source": [
    "# q2\n",
    "D1 = 1\n",
    "f1 = 10000\n",
    "res1 = 0.05\n",
    "r1 = 1\n",
    "\n",
    "f2 = 4613\n",
    "res2 = 1\n",
    "r2 = 43\n",
    "\n",
    "D2 = D1*(f1*r2*res1)/(f2*r1*res2)\n",
    "round(D2, 1)"
   ]
  },
  {
   "cell_type": "code",
   "execution_count": 94,
   "metadata": {},
   "outputs": [
    {
     "data": {
      "text/plain": [
       "74.1"
      ]
     },
     "execution_count": 94,
     "metadata": {},
     "output_type": "execute_result"
    }
   ],
   "source": [
    "# q3\n",
    "c = 1\n",
    "f = 5*10**3\n",
    "spll = 78.0\n",
    "theta1 = 90\n",
    "theta2 = 126.0\n",
    "\n",
    "spl2 = spl1 + 10*np.log10(1/(np.sin(theta1*np.pi/180)**2/np.sin(theta2*np.pi/180)))\n",
    "round(spl2, 1)"
   ]
  },
  {
   "cell_type": "code",
   "execution_count": 77,
   "metadata": {},
   "outputs": [
    {
     "data": {
      "text/plain": [
       "1.0"
      ]
     },
     "execution_count": 77,
     "metadata": {},
     "output_type": "execute_result"
    }
   ],
   "source": [
    "np.log10(10)"
   ]
  },
  {
   "cell_type": "code",
   "execution_count": null,
   "metadata": {},
   "outputs": [],
   "source": []
  },
  {
   "cell_type": "code",
   "execution_count": null,
   "metadata": {},
   "outputs": [],
   "source": []
  }
 ],
 "metadata": {
  "kernelspec": {
   "display_name": "Python 3",
   "language": "python",
   "name": "python3"
  },
  "language_info": {
   "codemirror_mode": {
    "name": "ipython",
    "version": 3
   },
   "file_extension": ".py",
   "mimetype": "text/x-python",
   "name": "python",
   "nbconvert_exporter": "python",
   "pygments_lexer": "ipython3",
   "version": "3.7.7"
  }
 },
 "nbformat": 4,
 "nbformat_minor": 4
}
